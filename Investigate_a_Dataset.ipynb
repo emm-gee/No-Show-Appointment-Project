{
 "cells": [
  {
   "cell_type": "markdown",
   "metadata": {
    "tags": []
   },
   "source": [
    "# Project: Investigate a Dataset - No-show Medical Appointments \n",
    "\n",
    "## Table of Contents\n",
    "<ul>\n",
    "<li><a href=\"#intro\">Introduction</a></li>\n",
    "<li><a href=\"#wrangling\">Data Wrangling</a></li>\n",
    "<li><a href=\"#eda\">Exploratory Data Analysis</a></li>\n",
    "<li><a href=\"#conclusions\">Conclusions</a></li>\n",
    "</ul>"
   ]
  },
  {
   "cell_type": "markdown",
   "metadata": {},
   "source": [
    "# <a id='intro'></a>\n",
    "## Introduction\n",
    "\n",
    "### Dataset Description \n",
    "\n",
    ">For this project I will be invesitigating a dataset that tracks no-show medical appointments at a number of hospitals across Brazil. I will first clean the data for ease of readability, then analyze the data looking for patterns within the variables that will hopfully provide some insight into a patient's ability to show for their appointment. This is a fairly large dataset with 110,527 rows and 14 columns. A description of the 14 columns is as follows:\n",
    "- 'PatientId' - unique identifier for the individual patients\n",
    "- 'AppointmentId' - unique identifier for each appointment\n",
    "- 'Gender' - gender of the person for whom the appointment is scheduled, male or female\n",
    "- 'ScheduledDay' - day the patient called to schedule the appointment\n",
    "- 'AppointmentDay - day of the actual appointment made by the patient\n",
    "- 'Age' - patient's age\n",
    "- 'Neighbourhood - neighborhood of the hospital where the appointment will occur\n",
    "- 'Scholorship' - indicates whether or not the patient is enrolled in Brasilian welfare      program Bolsa Família (True = 1, False = 0)\n",
    "- 'Hipertension - (True = 1, False = 0)\n",
    "- 'Diabetes' - (True = 1, False = 0)\n",
    "- 'Alcoholism' - (True = 1, False = 0)\n",
    "- 'Handcap' - number of handicaps the patient has at the time of the appointment\n",
    "- 'SMS_received' - (True = 1, False = 0)\n",
    "- 'No-Show' - No = showed, Yes = No-showed\n",
    "\n",
    "\n",
    "### Questions for Analysis\n",
    ">1. The first question I would like to explore is whether or not gender plays a role in the frequency of no-show appointments.\n",
    "\n",
    ">2. Does the day of the appointment have any bearing on the frequency of patients not showing for their appointment?\n",
    "\n",
    ">3. Do the number of days from when the appointment was scheduled, to when the appointment occurred, contribute to the probability of the patient not showing up.\n",
    "\n",
    ">4. Is the patient's age a factor in their ability to show-up for their scheduled appointment?\n",
    "\n",
    ">5. For patients who have the capability, is the SMS appointment reminder helpful in reducing no-show appointments?"
   ]
  },
  {
   "cell_type": "code",
   "execution_count": 1,
   "metadata": {
    "tags": []
   },
   "outputs": [],
   "source": [
    "# Import packages\n",
    "import pandas as pd\n",
    "import numpy as np\n",
    "import matplotlib.pyplot as plt"
   ]
  },
  {
   "cell_type": "code",
   "execution_count": 2,
   "metadata": {},
   "outputs": [],
   "source": [
    "# Read in the dataset\n",
    "df = pd.read_csv('noshowappointments-kagglev2-may-2016.csv')"
   ]
  },
  {
   "cell_type": "markdown",
   "metadata": {},
   "source": [
    "<a id='wrangling'></a>\n",
    "## Data Wrangling"
   ]
  },
  {
   "cell_type": "code",
   "execution_count": 3,
   "metadata": {},
   "outputs": [
    {
     "data": {
      "text/plain": [
       "(110527, 14)"
      ]
     },
     "execution_count": 3,
     "metadata": {},
     "output_type": "execute_result"
    }
   ],
   "source": [
    "# Check for the number of rows and columns\n",
    "df.shape"
   ]
  },
  {
   "cell_type": "markdown",
   "metadata": {},
   "source": [
    "### Observation:\n",
    "- There are 110,527 rows and 14 columns"
   ]
  },
  {
   "cell_type": "code",
   "execution_count": 4,
   "metadata": {},
   "outputs": [
    {
     "data": {
      "text/html": [
       "<div>\n",
       "<style scoped>\n",
       "    .dataframe tbody tr th:only-of-type {\n",
       "        vertical-align: middle;\n",
       "    }\n",
       "\n",
       "    .dataframe tbody tr th {\n",
       "        vertical-align: top;\n",
       "    }\n",
       "\n",
       "    .dataframe thead th {\n",
       "        text-align: right;\n",
       "    }\n",
       "</style>\n",
       "<table border=\"1\" class=\"dataframe\">\n",
       "  <thead>\n",
       "    <tr style=\"text-align: right;\">\n",
       "      <th></th>\n",
       "      <th>PatientId</th>\n",
       "      <th>AppointmentID</th>\n",
       "      <th>Gender</th>\n",
       "      <th>ScheduledDay</th>\n",
       "      <th>AppointmentDay</th>\n",
       "      <th>Age</th>\n",
       "      <th>Neighbourhood</th>\n",
       "      <th>Scholarship</th>\n",
       "      <th>Hipertension</th>\n",
       "      <th>Diabetes</th>\n",
       "      <th>Alcoholism</th>\n",
       "      <th>Handcap</th>\n",
       "      <th>SMS_received</th>\n",
       "      <th>No-show</th>\n",
       "    </tr>\n",
       "  </thead>\n",
       "  <tbody>\n",
       "    <tr>\n",
       "      <th>0</th>\n",
       "      <td>2.987250e+13</td>\n",
       "      <td>5642903</td>\n",
       "      <td>F</td>\n",
       "      <td>2016-04-29T18:38:08Z</td>\n",
       "      <td>2016-04-29T00:00:00Z</td>\n",
       "      <td>62</td>\n",
       "      <td>JARDIM DA PENHA</td>\n",
       "      <td>0</td>\n",
       "      <td>1</td>\n",
       "      <td>0</td>\n",
       "      <td>0</td>\n",
       "      <td>0</td>\n",
       "      <td>0</td>\n",
       "      <td>No</td>\n",
       "    </tr>\n",
       "    <tr>\n",
       "      <th>1</th>\n",
       "      <td>5.589978e+14</td>\n",
       "      <td>5642503</td>\n",
       "      <td>M</td>\n",
       "      <td>2016-04-29T16:08:27Z</td>\n",
       "      <td>2016-04-29T00:00:00Z</td>\n",
       "      <td>56</td>\n",
       "      <td>JARDIM DA PENHA</td>\n",
       "      <td>0</td>\n",
       "      <td>0</td>\n",
       "      <td>0</td>\n",
       "      <td>0</td>\n",
       "      <td>0</td>\n",
       "      <td>0</td>\n",
       "      <td>No</td>\n",
       "    </tr>\n",
       "    <tr>\n",
       "      <th>2</th>\n",
       "      <td>4.262962e+12</td>\n",
       "      <td>5642549</td>\n",
       "      <td>F</td>\n",
       "      <td>2016-04-29T16:19:04Z</td>\n",
       "      <td>2016-04-29T00:00:00Z</td>\n",
       "      <td>62</td>\n",
       "      <td>MATA DA PRAIA</td>\n",
       "      <td>0</td>\n",
       "      <td>0</td>\n",
       "      <td>0</td>\n",
       "      <td>0</td>\n",
       "      <td>0</td>\n",
       "      <td>0</td>\n",
       "      <td>No</td>\n",
       "    </tr>\n",
       "    <tr>\n",
       "      <th>3</th>\n",
       "      <td>8.679512e+11</td>\n",
       "      <td>5642828</td>\n",
       "      <td>F</td>\n",
       "      <td>2016-04-29T17:29:31Z</td>\n",
       "      <td>2016-04-29T00:00:00Z</td>\n",
       "      <td>8</td>\n",
       "      <td>PONTAL DE CAMBURI</td>\n",
       "      <td>0</td>\n",
       "      <td>0</td>\n",
       "      <td>0</td>\n",
       "      <td>0</td>\n",
       "      <td>0</td>\n",
       "      <td>0</td>\n",
       "      <td>No</td>\n",
       "    </tr>\n",
       "    <tr>\n",
       "      <th>4</th>\n",
       "      <td>8.841186e+12</td>\n",
       "      <td>5642494</td>\n",
       "      <td>F</td>\n",
       "      <td>2016-04-29T16:07:23Z</td>\n",
       "      <td>2016-04-29T00:00:00Z</td>\n",
       "      <td>56</td>\n",
       "      <td>JARDIM DA PENHA</td>\n",
       "      <td>0</td>\n",
       "      <td>1</td>\n",
       "      <td>1</td>\n",
       "      <td>0</td>\n",
       "      <td>0</td>\n",
       "      <td>0</td>\n",
       "      <td>No</td>\n",
       "    </tr>\n",
       "  </tbody>\n",
       "</table>\n",
       "</div>"
      ],
      "text/plain": [
       "      PatientId  AppointmentID Gender          ScheduledDay  \\\n",
       "0  2.987250e+13        5642903      F  2016-04-29T18:38:08Z   \n",
       "1  5.589978e+14        5642503      M  2016-04-29T16:08:27Z   \n",
       "2  4.262962e+12        5642549      F  2016-04-29T16:19:04Z   \n",
       "3  8.679512e+11        5642828      F  2016-04-29T17:29:31Z   \n",
       "4  8.841186e+12        5642494      F  2016-04-29T16:07:23Z   \n",
       "\n",
       "         AppointmentDay  Age      Neighbourhood  Scholarship  Hipertension  \\\n",
       "0  2016-04-29T00:00:00Z   62    JARDIM DA PENHA            0             1   \n",
       "1  2016-04-29T00:00:00Z   56    JARDIM DA PENHA            0             0   \n",
       "2  2016-04-29T00:00:00Z   62      MATA DA PRAIA            0             0   \n",
       "3  2016-04-29T00:00:00Z    8  PONTAL DE CAMBURI            0             0   \n",
       "4  2016-04-29T00:00:00Z   56    JARDIM DA PENHA            0             1   \n",
       "\n",
       "   Diabetes  Alcoholism  Handcap  SMS_received No-show  \n",
       "0         0           0        0             0      No  \n",
       "1         0           0        0             0      No  \n",
       "2         0           0        0             0      No  \n",
       "3         0           0        0             0      No  \n",
       "4         1           0        0             0      No  "
      ]
     },
     "execution_count": 4,
     "metadata": {},
     "output_type": "execute_result"
    }
   ],
   "source": [
    "# Preview the headings and first few rows of data\n",
    "df.head(5) "
   ]
  },
  {
   "cell_type": "code",
   "execution_count": 5,
   "metadata": {},
   "outputs": [
    {
     "data": {
      "text/html": [
       "<div>\n",
       "<style scoped>\n",
       "    .dataframe tbody tr th:only-of-type {\n",
       "        vertical-align: middle;\n",
       "    }\n",
       "\n",
       "    .dataframe tbody tr th {\n",
       "        vertical-align: top;\n",
       "    }\n",
       "\n",
       "    .dataframe thead th {\n",
       "        text-align: right;\n",
       "    }\n",
       "</style>\n",
       "<table border=\"1\" class=\"dataframe\">\n",
       "  <thead>\n",
       "    <tr style=\"text-align: right;\">\n",
       "      <th></th>\n",
       "      <th>PatientId</th>\n",
       "      <th>AppointmentID</th>\n",
       "      <th>Gender</th>\n",
       "      <th>ScheduledDay</th>\n",
       "      <th>AppointmentDay</th>\n",
       "      <th>Age</th>\n",
       "      <th>Neighbourhood</th>\n",
       "      <th>Scholarship</th>\n",
       "      <th>Hipertension</th>\n",
       "      <th>Diabetes</th>\n",
       "      <th>Alcoholism</th>\n",
       "      <th>Handcap</th>\n",
       "      <th>SMS_received</th>\n",
       "      <th>No-show</th>\n",
       "    </tr>\n",
       "  </thead>\n",
       "  <tbody>\n",
       "    <tr>\n",
       "      <th>110522</th>\n",
       "      <td>2.572134e+12</td>\n",
       "      <td>5651768</td>\n",
       "      <td>F</td>\n",
       "      <td>2016-05-03T09:15:35Z</td>\n",
       "      <td>2016-06-07T00:00:00Z</td>\n",
       "      <td>56</td>\n",
       "      <td>MARIA ORTIZ</td>\n",
       "      <td>0</td>\n",
       "      <td>0</td>\n",
       "      <td>0</td>\n",
       "      <td>0</td>\n",
       "      <td>0</td>\n",
       "      <td>1</td>\n",
       "      <td>No</td>\n",
       "    </tr>\n",
       "    <tr>\n",
       "      <th>110523</th>\n",
       "      <td>3.596266e+12</td>\n",
       "      <td>5650093</td>\n",
       "      <td>F</td>\n",
       "      <td>2016-05-03T07:27:33Z</td>\n",
       "      <td>2016-06-07T00:00:00Z</td>\n",
       "      <td>51</td>\n",
       "      <td>MARIA ORTIZ</td>\n",
       "      <td>0</td>\n",
       "      <td>0</td>\n",
       "      <td>0</td>\n",
       "      <td>0</td>\n",
       "      <td>0</td>\n",
       "      <td>1</td>\n",
       "      <td>No</td>\n",
       "    </tr>\n",
       "    <tr>\n",
       "      <th>110524</th>\n",
       "      <td>1.557663e+13</td>\n",
       "      <td>5630692</td>\n",
       "      <td>F</td>\n",
       "      <td>2016-04-27T16:03:52Z</td>\n",
       "      <td>2016-06-07T00:00:00Z</td>\n",
       "      <td>21</td>\n",
       "      <td>MARIA ORTIZ</td>\n",
       "      <td>0</td>\n",
       "      <td>0</td>\n",
       "      <td>0</td>\n",
       "      <td>0</td>\n",
       "      <td>0</td>\n",
       "      <td>1</td>\n",
       "      <td>No</td>\n",
       "    </tr>\n",
       "    <tr>\n",
       "      <th>110525</th>\n",
       "      <td>9.213493e+13</td>\n",
       "      <td>5630323</td>\n",
       "      <td>F</td>\n",
       "      <td>2016-04-27T15:09:23Z</td>\n",
       "      <td>2016-06-07T00:00:00Z</td>\n",
       "      <td>38</td>\n",
       "      <td>MARIA ORTIZ</td>\n",
       "      <td>0</td>\n",
       "      <td>0</td>\n",
       "      <td>0</td>\n",
       "      <td>0</td>\n",
       "      <td>0</td>\n",
       "      <td>1</td>\n",
       "      <td>No</td>\n",
       "    </tr>\n",
       "    <tr>\n",
       "      <th>110526</th>\n",
       "      <td>3.775115e+14</td>\n",
       "      <td>5629448</td>\n",
       "      <td>F</td>\n",
       "      <td>2016-04-27T13:30:56Z</td>\n",
       "      <td>2016-06-07T00:00:00Z</td>\n",
       "      <td>54</td>\n",
       "      <td>MARIA ORTIZ</td>\n",
       "      <td>0</td>\n",
       "      <td>0</td>\n",
       "      <td>0</td>\n",
       "      <td>0</td>\n",
       "      <td>0</td>\n",
       "      <td>1</td>\n",
       "      <td>No</td>\n",
       "    </tr>\n",
       "  </tbody>\n",
       "</table>\n",
       "</div>"
      ],
      "text/plain": [
       "           PatientId  AppointmentID Gender          ScheduledDay  \\\n",
       "110522  2.572134e+12        5651768      F  2016-05-03T09:15:35Z   \n",
       "110523  3.596266e+12        5650093      F  2016-05-03T07:27:33Z   \n",
       "110524  1.557663e+13        5630692      F  2016-04-27T16:03:52Z   \n",
       "110525  9.213493e+13        5630323      F  2016-04-27T15:09:23Z   \n",
       "110526  3.775115e+14        5629448      F  2016-04-27T13:30:56Z   \n",
       "\n",
       "              AppointmentDay  Age Neighbourhood  Scholarship  Hipertension  \\\n",
       "110522  2016-06-07T00:00:00Z   56   MARIA ORTIZ            0             0   \n",
       "110523  2016-06-07T00:00:00Z   51   MARIA ORTIZ            0             0   \n",
       "110524  2016-06-07T00:00:00Z   21   MARIA ORTIZ            0             0   \n",
       "110525  2016-06-07T00:00:00Z   38   MARIA ORTIZ            0             0   \n",
       "110526  2016-06-07T00:00:00Z   54   MARIA ORTIZ            0             0   \n",
       "\n",
       "        Diabetes  Alcoholism  Handcap  SMS_received No-show  \n",
       "110522         0           0        0             1      No  \n",
       "110523         0           0        0             1      No  \n",
       "110524         0           0        0             1      No  \n",
       "110525         0           0        0             1      No  \n",
       "110526         0           0        0             1      No  "
      ]
     },
     "execution_count": 5,
     "metadata": {},
     "output_type": "execute_result"
    }
   ],
   "source": [
    "# Preview the last few rows of data\n",
    "df.tail(5)"
   ]
  },
  {
   "cell_type": "markdown",
   "metadata": {},
   "source": [
    "### Observations:\n",
    "- There a number of columns with misspelled headings, 'Neighbourhood' should be 'Neighborhood', 'Hipertension' should be 'Hypertension', and 'Handcap' should be 'Handicap'\n",
    "- The formatting of the column labels are not uniformed and will need to be changed to make them easier to read\n",
    "- All of the appointment times for 'AppointmentDay' appear to have the same time of 00:00:00, I will need to investigate this further and change the data as needed to make it easier to analyze across both columns\n",
    "- The SMS_Received data is difficult to understand, I will change the data to 'Yes' instead of '1' and 'No' instead of '0'. This will make it easier to read and analyze\n",
    "  "
   ]
  },
  {
   "cell_type": "code",
   "execution_count": 6,
   "metadata": {
    "tags": []
   },
   "outputs": [
    {
     "name": "stdout",
     "output_type": "stream",
     "text": [
      "<class 'pandas.core.frame.DataFrame'>\n",
      "RangeIndex: 110527 entries, 0 to 110526\n",
      "Data columns (total 14 columns):\n",
      " #   Column          Non-Null Count   Dtype  \n",
      "---  ------          --------------   -----  \n",
      " 0   PatientId       110527 non-null  float64\n",
      " 1   AppointmentID   110527 non-null  int64  \n",
      " 2   Gender          110527 non-null  object \n",
      " 3   ScheduledDay    110527 non-null  object \n",
      " 4   AppointmentDay  110527 non-null  object \n",
      " 5   Age             110527 non-null  int64  \n",
      " 6   Neighbourhood   110527 non-null  object \n",
      " 7   Scholarship     110527 non-null  int64  \n",
      " 8   Hipertension    110527 non-null  int64  \n",
      " 9   Diabetes        110527 non-null  int64  \n",
      " 10  Alcoholism      110527 non-null  int64  \n",
      " 11  Handcap         110527 non-null  int64  \n",
      " 12  SMS_received    110527 non-null  int64  \n",
      " 13  No-show         110527 non-null  object \n",
      "dtypes: float64(1), int64(8), object(5)\n",
      "memory usage: 11.8+ MB\n"
     ]
    }
   ],
   "source": [
    "# View column data types, and check for null values\n",
    "df.info()  "
   ]
  },
  {
   "cell_type": "code",
   "execution_count": 7,
   "metadata": {},
   "outputs": [
    {
     "data": {
      "text/plain": [
       "PatientId         0\n",
       "AppointmentID     0\n",
       "Gender            0\n",
       "ScheduledDay      0\n",
       "AppointmentDay    0\n",
       "Age               0\n",
       "Neighbourhood     0\n",
       "Scholarship       0\n",
       "Hipertension      0\n",
       "Diabetes          0\n",
       "Alcoholism        0\n",
       "Handcap           0\n",
       "SMS_received      0\n",
       "No-show           0\n",
       "dtype: int64"
      ]
     },
     "execution_count": 7,
     "metadata": {},
     "output_type": "execute_result"
    }
   ],
   "source": [
    "# Sum the null values\n",
    "df.isnull().sum()"
   ]
  },
  {
   "cell_type": "code",
   "execution_count": 8,
   "metadata": {},
   "outputs": [
    {
     "data": {
      "text/plain": [
       "PatientId          62299\n",
       "AppointmentID     110527\n",
       "Gender                 2\n",
       "ScheduledDay      103549\n",
       "AppointmentDay        27\n",
       "Age                  104\n",
       "Neighbourhood         81\n",
       "Scholarship            2\n",
       "Hipertension           2\n",
       "Diabetes               2\n",
       "Alcoholism             2\n",
       "Handcap                5\n",
       "SMS_received           2\n",
       "No-show                2\n",
       "dtype: int64"
      ]
     },
     "execution_count": 8,
     "metadata": {},
     "output_type": "execute_result"
    }
   ],
   "source": [
    "# Check for unique values for each column\n",
    "df.nunique()"
   ]
  },
  {
   "cell_type": "code",
   "execution_count": 9,
   "metadata": {},
   "outputs": [
    {
     "data": {
      "text/plain": [
       "0"
      ]
     },
     "execution_count": 9,
     "metadata": {},
     "output_type": "execute_result"
    }
   ],
   "source": [
    "# Check for duplicate values\n",
    "df.duplicated().sum()"
   ]
  },
  {
   "cell_type": "markdown",
   "metadata": {},
   "source": [
    "### Observations:\n",
    "- There are no null values in the dataset \n",
    "- 'PatientId' should be int64 not float64\n",
    "- 'ScheduledDay' and 'AppointmentDay' will need to be changed to datetime format, and the time will need to be normalized\n",
    "- There are 62,299 different patients in the dataset out of 110,527 appointments\n",
    "- There are no duplicate rows in the dataset"
   ]
  },
  {
   "cell_type": "markdown",
   "metadata": {},
   "source": [
    "## Data Cleaning:"
   ]
  },
  {
   "cell_type": "markdown",
   "metadata": {},
   "source": [
    "### Fix column names:\n",
    "\n",
    "- Fix typos: 'Neighbourhood' should be 'Neighborhood', Hipertension' should be 'Hypertension', 'Handcap' should be 'Handicap'.\n",
    "- Replace '-' with '_' in 'No-show': No-show' should be 'No_show'\n",
    "- Add '_' to 'Patient_ID', 'Appointment_ID', 'Scheduled_Day', and 'Appointment_Day' for uniformity and ease of readability"
   ]
  },
  {
   "cell_type": "code",
   "execution_count": 10,
   "metadata": {
    "tags": []
   },
   "outputs": [
    {
     "data": {
      "text/html": [
       "<div>\n",
       "<style scoped>\n",
       "    .dataframe tbody tr th:only-of-type {\n",
       "        vertical-align: middle;\n",
       "    }\n",
       "\n",
       "    .dataframe tbody tr th {\n",
       "        vertical-align: top;\n",
       "    }\n",
       "\n",
       "    .dataframe thead th {\n",
       "        text-align: right;\n",
       "    }\n",
       "</style>\n",
       "<table border=\"1\" class=\"dataframe\">\n",
       "  <thead>\n",
       "    <tr style=\"text-align: right;\">\n",
       "      <th></th>\n",
       "      <th>Patient_ID</th>\n",
       "      <th>Appointment_ID</th>\n",
       "      <th>Gender</th>\n",
       "      <th>Scheduled_Day</th>\n",
       "      <th>Appointment_Day</th>\n",
       "      <th>Age</th>\n",
       "      <th>Neighborhood</th>\n",
       "      <th>Scholarship</th>\n",
       "      <th>Hypertension</th>\n",
       "      <th>Diabetes</th>\n",
       "      <th>Alcoholism</th>\n",
       "      <th>Handicap</th>\n",
       "      <th>SMS_received</th>\n",
       "      <th>No_Show</th>\n",
       "    </tr>\n",
       "  </thead>\n",
       "  <tbody>\n",
       "    <tr>\n",
       "      <th>0</th>\n",
       "      <td>2.987250e+13</td>\n",
       "      <td>5642903</td>\n",
       "      <td>F</td>\n",
       "      <td>2016-04-29T18:38:08Z</td>\n",
       "      <td>2016-04-29T00:00:00Z</td>\n",
       "      <td>62</td>\n",
       "      <td>JARDIM DA PENHA</td>\n",
       "      <td>0</td>\n",
       "      <td>1</td>\n",
       "      <td>0</td>\n",
       "      <td>0</td>\n",
       "      <td>0</td>\n",
       "      <td>0</td>\n",
       "      <td>No</td>\n",
       "    </tr>\n",
       "  </tbody>\n",
       "</table>\n",
       "</div>"
      ],
      "text/plain": [
       "     Patient_ID  Appointment_ID Gender         Scheduled_Day  \\\n",
       "0  2.987250e+13         5642903      F  2016-04-29T18:38:08Z   \n",
       "\n",
       "        Appointment_Day  Age     Neighborhood  Scholarship  Hypertension  \\\n",
       "0  2016-04-29T00:00:00Z   62  JARDIM DA PENHA            0             1   \n",
       "\n",
       "   Diabetes  Alcoholism  Handicap  SMS_received No_Show  \n",
       "0         0           0         0             0      No  "
      ]
     },
     "execution_count": 10,
     "metadata": {},
     "output_type": "execute_result"
    }
   ],
   "source": [
    "# Clean column names\n",
    "df.rename(columns={'PatientId': 'Patient_ID', 'AppointmentID': 'Appointment_ID',\n",
    "                     'ScheduledDay': 'Scheduled_Day', 'AppointmentDay': 'Appointment_Day',\n",
    "                     'Neighbourhood': 'Neighborhood', 'Hipertension': 'Hypertension', \n",
    "                     'Handcap': 'Handicap', 'No-show': 'No_Show'}, inplace=True)\n",
    "\n",
    "# Confirm changes\n",
    "df.head(1)"
   ]
  },
  {
   "cell_type": "markdown",
   "metadata": {},
   "source": [
    "### Change data types"
   ]
  },
  {
   "cell_type": "code",
   "execution_count": 11,
   "metadata": {},
   "outputs": [
    {
     "name": "stdout",
     "output_type": "stream",
     "text": [
      "<class 'pandas.core.frame.DataFrame'>\n",
      "RangeIndex: 110527 entries, 0 to 110526\n",
      "Data columns (total 14 columns):\n",
      " #   Column           Non-Null Count   Dtype \n",
      "---  ------           --------------   ----- \n",
      " 0   Patient_ID       110527 non-null  int64 \n",
      " 1   Appointment_ID   110527 non-null  int64 \n",
      " 2   Gender           110527 non-null  object\n",
      " 3   Scheduled_Day    110527 non-null  object\n",
      " 4   Appointment_Day  110527 non-null  object\n",
      " 5   Age              110527 non-null  int64 \n",
      " 6   Neighborhood     110527 non-null  object\n",
      " 7   Scholarship      110527 non-null  int64 \n",
      " 8   Hypertension     110527 non-null  int64 \n",
      " 9   Diabetes         110527 non-null  int64 \n",
      " 10  Alcoholism       110527 non-null  int64 \n",
      " 11  Handicap         110527 non-null  int64 \n",
      " 12  SMS_received     110527 non-null  int64 \n",
      " 13  No_Show          110527 non-null  object\n",
      "dtypes: int64(9), object(5)\n",
      "memory usage: 11.8+ MB\n"
     ]
    }
   ],
   "source": [
    "# Change data type of 'Patient_ID'   \n",
    "df['Patient_ID'] = df['Patient_ID'].astype('int64')\n",
    "\n",
    "# Confirm changes\n",
    "df.info()"
   ]
  },
  {
   "cell_type": "code",
   "execution_count": 12,
   "metadata": {},
   "outputs": [],
   "source": [
    "# Change data types of 'Scheduled_Day', and 'Appointment_Day'\n",
    "df['Appointment_Day'] = pd.to_datetime(df['Appointment_Day'])\n",
    "df['Scheduled_Day'] = pd.to_datetime(df['Scheduled_Day'])"
   ]
  },
  {
   "cell_type": "code",
   "execution_count": 13,
   "metadata": {},
   "outputs": [
    {
     "name": "stdout",
     "output_type": "stream",
     "text": [
      "[datetime.time(0, 0)]\n"
     ]
    }
   ],
   "source": [
    "# Confirm the time for 'Appointment_Day' is 00:00:00 for every row\n",
    "unique_times = df['Appointment_Day'].dt.time.unique()\n",
    "print(unique_times)"
   ]
  },
  {
   "cell_type": "code",
   "execution_count": 14,
   "metadata": {},
   "outputs": [
    {
     "name": "stdout",
     "output_type": "stream",
     "text": [
      "              Scheduled_Day           Appointment_Day\n",
      "0 2016-04-29 00:00:00+00:00 2016-04-29 00:00:00+00:00\n",
      "1 2016-04-29 00:00:00+00:00 2016-04-29 00:00:00+00:00\n",
      "2 2016-04-29 00:00:00+00:00 2016-04-29 00:00:00+00:00\n",
      "3 2016-04-29 00:00:00+00:00 2016-04-29 00:00:00+00:00\n",
      "4 2016-04-29 00:00:00+00:00 2016-04-29 00:00:00+00:00\n"
     ]
    }
   ],
   "source": [
    "# Change datetime to only include date for 'Scheduled_day' and 'AppointmentDay'\n",
    "df['Appointment_Day'] = pd.to_datetime(df['Appointment_Day']).dt.normalize()\n",
    "df['Scheduled_Day'] = pd.to_datetime(df['Scheduled_Day']).dt.normalize()\n",
    "\n",
    "# Confirm normalization of the time for both columns\n",
    "print(df[['Scheduled_Day', 'Appointment_Day']].head())"
   ]
  },
  {
   "cell_type": "markdown",
   "metadata": {},
   "source": [
    "### Clean data to make it easier to analyze\n",
    "\n",
    "Replace 'Yes' for '1' and 'No' for '0' in the 'SMS_received'"
   ]
  },
  {
   "cell_type": "code",
   "execution_count": 15,
   "metadata": {},
   "outputs": [
    {
     "data": {
      "text/html": [
       "<div>\n",
       "<style scoped>\n",
       "    .dataframe tbody tr th:only-of-type {\n",
       "        vertical-align: middle;\n",
       "    }\n",
       "\n",
       "    .dataframe tbody tr th {\n",
       "        vertical-align: top;\n",
       "    }\n",
       "\n",
       "    .dataframe thead th {\n",
       "        text-align: right;\n",
       "    }\n",
       "</style>\n",
       "<table border=\"1\" class=\"dataframe\">\n",
       "  <thead>\n",
       "    <tr style=\"text-align: right;\">\n",
       "      <th></th>\n",
       "      <th>Patient_ID</th>\n",
       "      <th>Appointment_ID</th>\n",
       "      <th>Gender</th>\n",
       "      <th>Scheduled_Day</th>\n",
       "      <th>Appointment_Day</th>\n",
       "      <th>Age</th>\n",
       "      <th>Neighborhood</th>\n",
       "      <th>Scholarship</th>\n",
       "      <th>Hypertension</th>\n",
       "      <th>Diabetes</th>\n",
       "      <th>Alcoholism</th>\n",
       "      <th>Handicap</th>\n",
       "      <th>SMS_received</th>\n",
       "      <th>No_Show</th>\n",
       "    </tr>\n",
       "  </thead>\n",
       "  <tbody>\n",
       "    <tr>\n",
       "      <th>0</th>\n",
       "      <td>29872499824296</td>\n",
       "      <td>5642903</td>\n",
       "      <td>F</td>\n",
       "      <td>2016-04-29 00:00:00+00:00</td>\n",
       "      <td>2016-04-29 00:00:00+00:00</td>\n",
       "      <td>62</td>\n",
       "      <td>JARDIM DA PENHA</td>\n",
       "      <td>0</td>\n",
       "      <td>1</td>\n",
       "      <td>0</td>\n",
       "      <td>0</td>\n",
       "      <td>0</td>\n",
       "      <td>No</td>\n",
       "      <td>No</td>\n",
       "    </tr>\n",
       "    <tr>\n",
       "      <th>1</th>\n",
       "      <td>558997776694438</td>\n",
       "      <td>5642503</td>\n",
       "      <td>M</td>\n",
       "      <td>2016-04-29 00:00:00+00:00</td>\n",
       "      <td>2016-04-29 00:00:00+00:00</td>\n",
       "      <td>56</td>\n",
       "      <td>JARDIM DA PENHA</td>\n",
       "      <td>0</td>\n",
       "      <td>0</td>\n",
       "      <td>0</td>\n",
       "      <td>0</td>\n",
       "      <td>0</td>\n",
       "      <td>No</td>\n",
       "      <td>No</td>\n",
       "    </tr>\n",
       "    <tr>\n",
       "      <th>2</th>\n",
       "      <td>4262962299951</td>\n",
       "      <td>5642549</td>\n",
       "      <td>F</td>\n",
       "      <td>2016-04-29 00:00:00+00:00</td>\n",
       "      <td>2016-04-29 00:00:00+00:00</td>\n",
       "      <td>62</td>\n",
       "      <td>MATA DA PRAIA</td>\n",
       "      <td>0</td>\n",
       "      <td>0</td>\n",
       "      <td>0</td>\n",
       "      <td>0</td>\n",
       "      <td>0</td>\n",
       "      <td>No</td>\n",
       "      <td>No</td>\n",
       "    </tr>\n",
       "    <tr>\n",
       "      <th>3</th>\n",
       "      <td>867951213174</td>\n",
       "      <td>5642828</td>\n",
       "      <td>F</td>\n",
       "      <td>2016-04-29 00:00:00+00:00</td>\n",
       "      <td>2016-04-29 00:00:00+00:00</td>\n",
       "      <td>8</td>\n",
       "      <td>PONTAL DE CAMBURI</td>\n",
       "      <td>0</td>\n",
       "      <td>0</td>\n",
       "      <td>0</td>\n",
       "      <td>0</td>\n",
       "      <td>0</td>\n",
       "      <td>No</td>\n",
       "      <td>No</td>\n",
       "    </tr>\n",
       "    <tr>\n",
       "      <th>4</th>\n",
       "      <td>8841186448183</td>\n",
       "      <td>5642494</td>\n",
       "      <td>F</td>\n",
       "      <td>2016-04-29 00:00:00+00:00</td>\n",
       "      <td>2016-04-29 00:00:00+00:00</td>\n",
       "      <td>56</td>\n",
       "      <td>JARDIM DA PENHA</td>\n",
       "      <td>0</td>\n",
       "      <td>1</td>\n",
       "      <td>1</td>\n",
       "      <td>0</td>\n",
       "      <td>0</td>\n",
       "      <td>No</td>\n",
       "      <td>No</td>\n",
       "    </tr>\n",
       "  </tbody>\n",
       "</table>\n",
       "</div>"
      ],
      "text/plain": [
       "        Patient_ID  Appointment_ID Gender             Scheduled_Day  \\\n",
       "0   29872499824296         5642903      F 2016-04-29 00:00:00+00:00   \n",
       "1  558997776694438         5642503      M 2016-04-29 00:00:00+00:00   \n",
       "2    4262962299951         5642549      F 2016-04-29 00:00:00+00:00   \n",
       "3     867951213174         5642828      F 2016-04-29 00:00:00+00:00   \n",
       "4    8841186448183         5642494      F 2016-04-29 00:00:00+00:00   \n",
       "\n",
       "            Appointment_Day  Age       Neighborhood  Scholarship  \\\n",
       "0 2016-04-29 00:00:00+00:00   62    JARDIM DA PENHA            0   \n",
       "1 2016-04-29 00:00:00+00:00   56    JARDIM DA PENHA            0   \n",
       "2 2016-04-29 00:00:00+00:00   62      MATA DA PRAIA            0   \n",
       "3 2016-04-29 00:00:00+00:00    8  PONTAL DE CAMBURI            0   \n",
       "4 2016-04-29 00:00:00+00:00   56    JARDIM DA PENHA            0   \n",
       "\n",
       "   Hypertension  Diabetes  Alcoholism  Handicap SMS_received No_Show  \n",
       "0             1         0           0         0           No      No  \n",
       "1             0         0           0         0           No      No  \n",
       "2             0         0           0         0           No      No  \n",
       "3             0         0           0         0           No      No  \n",
       "4             1         1           0         0           No      No  "
      ]
     },
     "execution_count": 15,
     "metadata": {},
     "output_type": "execute_result"
    }
   ],
   "source": [
    "# Replace 'Yes' for '1' and 'No' for '0' in the 'SMS_received' column\n",
    "df['SMS_received'] = df['SMS_received'].replace({0: 'No', 1: 'Yes'})\n",
    "\n",
    "# Confirm changes\n",
    "df.head(5)"
   ]
  },
  {
   "cell_type": "markdown",
   "metadata": {},
   "source": [
    "<a id='eda'></a>\n",
    "## Exploratory Data Analysis"
   ]
  },
  {
   "cell_type": "markdown",
   "metadata": {},
   "source": [
    "## Question 1.\n",
    "### Does gender play a role in probablity for no-shows?"
   ]
  },
  {
   "cell_type": "code",
   "execution_count": 16,
   "metadata": {
    "tags": []
   },
   "outputs": [
    {
     "name": "stdout",
     "output_type": "stream",
     "text": [
      "Gender\n",
      "F    0.203146\n",
      "M    0.199679\n",
      "Name: No_Show, dtype: float64\n"
     ]
    }
   ],
   "source": [
    "# Calculate no-show rate by gender, find the mean\n",
    "gender_no_show_rates = df.groupby('Gender')['No_Show'].apply(lambda x: (x == 'Yes').mean())\n",
    "                                                        \n",
    "print(gender_no_show_rates)  "
   ]
  },
  {
   "cell_type": "code",
   "execution_count": 17,
   "metadata": {},
   "outputs": [
    {
     "data": {
      "image/png": "[encoded data removed]",
      "text/plain": [
       "<Figure size 640x480 with 1 Axes>"
      ]
     },
     "metadata": {},
     "output_type": "display_data"
    }
   ],
   "source": [
    "# Plot the no-show rate by gender\n",
    "gender_no_show_rates.plot(kind = 'bar', color = ['pink', 'blue'])\n",
    "plt.title('No_Show Rates by Gender')\n",
    "plt.xlabel('Gender')\n",
    "plt.ylabel('No_Show Rate')\n",
    "plt.xticks(rotation=0)\n",
    "plt.show()"
   ]
  },
  {
   "cell_type": "markdown",
   "metadata": {},
   "source": [
    "### Observation: \n",
    "The average number of no-show appointments by gender is fairly equal, with females having slightly more no-show appointments than males. Gender does not seem to be a factor in the frequency of no-show appointments."
   ]
  },
  {
   "cell_type": "markdown",
   "metadata": {},
   "source": [
    "## Questions 2.\n",
    "\n",
    "### Does the day of the week of the appointment have any bearing on a patient's ability to show for their appointment?"
   ]
  },
  {
   "cell_type": "code",
   "execution_count": 18,
   "metadata": {
    "tags": []
   },
   "outputs": [
    {
     "name": "stdout",
     "output_type": "stream",
     "text": [
      "<class 'pandas.core.frame.DataFrame'>\n",
      "RangeIndex: 110527 entries, 0 to 110526\n",
      "Data columns (total 15 columns):\n",
      " #   Column           Non-Null Count   Dtype              \n",
      "---  ------           --------------   -----              \n",
      " 0   Patient_ID       110527 non-null  int64              \n",
      " 1   Appointment_ID   110527 non-null  int64              \n",
      " 2   Gender           110527 non-null  object             \n",
      " 3   Scheduled_Day    110527 non-null  datetime64[ns, UTC]\n",
      " 4   Appointment_Day  110527 non-null  datetime64[ns, UTC]\n",
      " 5   Age              110527 non-null  int64              \n",
      " 6   Neighborhood     110527 non-null  object             \n",
      " 7   Scholarship      110527 non-null  int64              \n",
      " 8   Hypertension     110527 non-null  int64              \n",
      " 9   Diabetes         110527 non-null  int64              \n",
      " 10  Alcoholism       110527 non-null  int64              \n",
      " 11  Handicap         110527 non-null  int64              \n",
      " 12  SMS_received     110527 non-null  object             \n",
      " 13  No_Show          110527 non-null  object             \n",
      " 14  Day_of_Week      110527 non-null  object             \n",
      "dtypes: datetime64[ns, UTC](2), int64(8), object(5)\n",
      "memory usage: 12.6+ MB\n"
     ]
    }
   ],
   "source": [
    "# Create a new column to hold the extracted day of the week\n",
    "df['Day_of_Week'] = df['Appointment_Day'].dt.day_name()\n",
    "\n",
    "# Check the added column and data type\n",
    "df.info()"
   ]
  },
  {
   "cell_type": "code",
   "execution_count": 19,
   "metadata": {},
   "outputs": [
    {
     "name": "stdout",
     "output_type": "stream",
     "text": [
      "Day_of_Week\n",
      "Friday       0.212261\n",
      "Monday       0.206471\n",
      "Saturday     0.230769\n",
      "Thursday     0.193541\n",
      "Tuesday      0.200936\n",
      "Wednesday    0.196892\n",
      "Name: No_Show, dtype: float64\n"
     ]
    }
   ],
   "source": [
    "# Calculate the no-show rate by day of the week, find the mean\n",
    "no_show_rates = df.groupby('Day_of_Week')['No_Show'].apply(lambda x: (x == 'Yes').mean())\n",
    "\n",
    "print(no_show_rates)"
   ]
  },
  {
   "cell_type": "code",
   "execution_count": 20,
   "metadata": {},
   "outputs": [],
   "source": [
    "# Define the order of the days of the week\n",
    "days_order = ['Monday', 'Tuesday', 'Wednesday', 'Thursday', 'Friday', 'Saturday', 'Sunday']"
   ]
  },
  {
   "cell_type": "code",
   "execution_count": 21,
   "metadata": {},
   "outputs": [],
   "source": [
    "# Reorder the no-show rate using defined order of days\n",
    "no_show_rates = no_show_rates.reindex(days_order)"
   ]
  },
  {
   "cell_type": "code",
   "execution_count": 22,
   "metadata": {},
   "outputs": [
    {
     "data": {
      "image/png": "[encoded data removed]",
      "text/plain": [
       "<Figure size 640x480 with 1 Axes>"
      ]
     },
     "metadata": {},
     "output_type": "display_data"
    }
   ],
   "source": [
    "# Plot the no-show rate by day of the week\n",
    "no_show_rates.plot(kind ='bar', color='skyblue')\n",
    "plt.title('No_Show Rates by Day of the Week')\n",
    "plt.xlabel('Day of the Week')\n",
    "plt.ylabel('No_Show Rate')\n",
    "plt.xticks(rotation=45)\n",
    "plt.show()"
   ]
  },
  {
   "cell_type": "markdown",
   "metadata": {},
   "source": [
    "### Observation:\n",
    "The appointment no-show by day indicates that people are more likely to not show for their appointment if it is scheduled on  Friday or Saturday. There are no appointments scheduled on Sundays."
   ]
  },
  {
   "cell_type": "markdown",
   "metadata": {},
   "source": [
    "## Question 3.\n",
    "\n",
    "### Are the number of days from 'Scheduled_Day' until 'Appoinment_Day' a factor in a patient's tendency to show up to their appointment? "
   ]
  },
  {
   "cell_type": "code",
   "execution_count": 23,
   "metadata": {},
   "outputs": [],
   "source": [
    "# Calculate the number of days from when the appointment was made until the appointment occured\n",
    "df['Waiting_Days'] = (df['Appointment_Day'] - df['Scheduled_Day']).dt.days"
   ]
  },
  {
   "cell_type": "code",
   "execution_count": 24,
   "metadata": {},
   "outputs": [],
   "source": [
    "# Group the number of days waited\n",
    "bins = [0, 5, 10, 15, 20, 25, 30, max(df['Waiting_Days']) + 1]\n",
    "labels = ['0-5 days', '6-10 days', '11-15 days', '16-20 days', '21-25 days', '26-30 days', 'Over 30 days']"
   ]
  },
  {
   "cell_type": "code",
   "execution_count": 25,
   "metadata": {},
   "outputs": [
    {
     "name": "stdout",
     "output_type": "stream",
     "text": [
      "   Waiting_Days Waiting_Days_Category\n",
      "0             0              0-5 days\n",
      "1             0              0-5 days\n",
      "2             0              0-5 days\n",
      "3             0              0-5 days\n",
      "4             0              0-5 days\n"
     ]
    }
   ],
   "source": [
    "# Create a new column with grouped waiting days\n",
    "df['Waiting_Days_Category'] = pd.cut(df['Waiting_Days'], bins=bins, labels=labels, right=False)\n",
    "\n",
    "# Check the first few entries to confirm categorization\n",
    "print(df[['Waiting_Days', 'Waiting_Days_Category']].head())"
   ]
  },
  {
   "cell_type": "code",
   "execution_count": 26,
   "metadata": {},
   "outputs": [
    {
     "data": {
      "image/png": "[encoded data removed]",
      "text/plain": [
       "<Figure size 640x480 with 1 Axes>"
      ]
     },
     "metadata": {},
     "output_type": "display_data"
    }
   ],
   "source": [
    "# Compare the grouped waiting days to no-shows, calculate the mean\n",
    "category_no_show_rates = df.groupby('Waiting_Days_Category')['No_Show'].apply(lambda x: (x == 'Yes').mean() * 100)\n",
    "\n",
    "# Plot the calcualated no-show rates\n",
    "category_no_show_rates.plot(kind='bar', color='blue')\n",
    "plt.title('No-Show Rates by Waiting Day Categories')\n",
    "plt.xlabel('Waiting Day Categories')\n",
    "plt.ylabel('No-Show Rate (%)')\n",
    "plt.xticks(rotation=45)\n",
    "plt.show()"
   ]
  },
  {
   "cell_type": "markdown",
   "metadata": {},
   "source": [
    "### Observation:\n",
    "The data indicates that the longer the wait for the appointment, the more likely the patient will not show for their appointment.\n"
   ]
  },
  {
   "cell_type": "markdown",
   "metadata": {},
   "source": [
    "## Question 4.\n",
    "\n",
    "### Are certain age groups more likely to no-show for their appointment?"
   ]
  },
  {
   "cell_type": "code",
   "execution_count": 27,
   "metadata": {},
   "outputs": [
    {
     "name": "stdout",
     "output_type": "stream",
     "text": [
      "The age range in the dataset is from -1 to 115 years.\n"
     ]
    }
   ],
   "source": [
    "# Check the minimum and maximum age in the 'Age' column\n",
    "min_age = df['Age'].min()\n",
    "max_age = df['Age'].max()\n",
    "\n",
    "# Print the age range\n",
    "print(f\"The age range in the dataset is from {min_age} to {max_age} years.\")"
   ]
  },
  {
   "cell_type": "code",
   "execution_count": 28,
   "metadata": {},
   "outputs": [
    {
     "name": "stdout",
     "output_type": "stream",
     "text": [
      "   Age    Age_Group\n",
      "0   62  56-65 years\n",
      "1   56  56-65 years\n",
      "2   62  56-65 years\n",
      "3    8   6-12 years\n",
      "4   56  56-65 years\n"
     ]
    }
   ],
   "source": [
    "# Define the bins for age groups\n",
    "bins = [-1, 1, 5, 12, 18, 25, 35, 45, 55, 65, 75, 85, 100, 115]\n",
    "labels = ['Under 1 year', '1-5 years', '6-12 years', '13-18 years', '19-25 years',\n",
    "          '26-35 years', '36-45 years', '46-55 years', '56-65 years',\n",
    "          '66-75 years', '76-85 years', '86-100 years', 'Over 100 years']\n",
    "\n",
    "# Categorize the ages\n",
    "df['Age_Group'] = pd.cut(df['Age'], bins=bins, labels=labels, right=True)\n",
    "\n",
    "# Check the first few entries to confirm categorization\n",
    "print(df[['Age', 'Age_Group']].head())"
   ]
  },
  {
   "cell_type": "code",
   "execution_count": 29,
   "metadata": {},
   "outputs": [
    {
     "name": "stdout",
     "output_type": "stream",
     "text": [
      "Age_Group\n",
      "Under 1 year      18.134893\n",
      "1-5 years         19.107957\n",
      "6-12 years        22.804944\n",
      "13-18 years       26.053640\n",
      "19-25 years       25.387856\n",
      "26-35 years       22.785337\n",
      "36-45 years       21.135647\n",
      "46-55 years       18.358489\n",
      "56-65 years       15.750194\n",
      "66-75 years       15.122013\n",
      "76-85 years       15.949905\n",
      "86-100 years      16.652212\n",
      "Over 100 years    42.857143\n",
      "Name: No_Show, dtype: float64\n"
     ]
    }
   ],
   "source": [
    "# Calculate the no-show rate for each age group\n",
    "no_show_rates_by_age = df.groupby('Age_Group')['No_Show'].apply(lambda x: (x == 'Yes').mean() * 100)\n",
    "\n",
    "# Output the rates to check them\n",
    "print(no_show_rates_by_age)"
   ]
  },
  {
   "cell_type": "code",
   "execution_count": 30,
   "metadata": {},
   "outputs": [
    {
     "data": {
      "image/png": "[encoded data removed]",
      "text/plain": [
       "<Figure size 640x480 with 1 Axes>"
      ]
     },
     "metadata": {},
     "output_type": "display_data"
    }
   ],
   "source": [
    "# Plotting the no-show rates for each age group\n",
    "no_show_rates_by_age.plot(kind='bar', color='skyblue')\n",
    "plt.title('No-Show Rates by Age Group')\n",
    "plt.xlabel('Age Group')\n",
    "plt.ylabel('No-Show Rate (%)')\n",
    "plt.xticks(rotation=45)\n",
    "plt.show()"
   ]
  },
  {
   "cell_type": "markdown",
   "metadata": {},
   "source": [
    "### Observation:\n",
    "We can see from the graph that the age range for most missed appointments is ages 6-25. The highest rate of no-show is from the over 100 category, this could be an outlier as the probability of having many patients over 100 is low."
   ]
  },
  {
   "cell_type": "markdown",
   "metadata": {},
   "source": [
    "## Question 5.\n",
    "\n",
    "### Does the SMS reminder encourage patients to show for their appointment?"
   ]
  },
  {
   "cell_type": "code",
   "execution_count": 31,
   "metadata": {},
   "outputs": [],
   "source": [
    "# Calculate the show and no-show rates\n",
    "sms_show_rates = df.groupby('SMS_received')['No_Show'].apply(lambda x: (x == 'No').mean())\n",
    "sms_no_show_rates = df.groupby('SMS_received')['No_Show'].apply(lambda x: (x == 'Yes').mean())"
   ]
  },
  {
   "cell_type": "code",
   "execution_count": 32,
   "metadata": {},
   "outputs": [
    {
     "data": {
      "image/png": "[encoded data removed]",
      "text/plain": [
       "<Figure size 640x480 with 1 Axes>"
      ]
     },
     "metadata": {},
     "output_type": "display_data"
    }
   ],
   "source": [
    "# Create a new DataFrame to store these rates for easier plotting\n",
    "rates_df = pd.DataFrame({\n",
    "    'Show Rate': sms_show_rates,\n",
    "    'No-Show Rate': sms_no_show_rates})\n",
    "\n",
    "# Plotting both show and no-show rates side by side\n",
    "rates_df.plot(kind='bar', color=['green', 'red'])\n",
    "plt.title('Show and No-Show Rates by SMS Received Status')\n",
    "plt.xlabel('SMS Received')\n",
    "plt.ylabel('Rate')\n",
    "plt.legend(title='Appointment Outcome')\n",
    "plt.show()"
   ]
  },
  {
   "cell_type": "code",
   "execution_count": 33,
   "metadata": {},
   "outputs": [
    {
     "name": "stdout",
     "output_type": "stream",
     "text": [
      "The number of patients over 100 is 7\n"
     ]
    }
   ],
   "source": [
    "# Determine how many patients are over the age 100\n",
    "patients_age = df[df['Age']>100]\n",
    "# Count the number of patients over 100\n",
    "patients_over_100 = patients_age.shape[0]\n",
    "\n",
    "print('The number of patients over 100 is', patients_over_100)"
   ]
  },
  {
   "cell_type": "markdown",
   "metadata": {},
   "source": [
    "### Observation:\n",
    "The no-show rate for patients who received the SMS reminder, is higher than if they did not receive and reminder."
   ]
  },
  {
   "cell_type": "markdown",
   "metadata": {},
   "source": [
    "<a id='conclusions'></a>\n",
    "## Conclusions\n",
    "\n",
    "> Male and Female patients no-show for their appointments at an almost equal rate.\n",
    "\n",
    "> The day the appointment is scheduled on does slightly increase the probability of a no-show. The days with the highest no-show rate are Friday and Saturday, with a no-show rate of about 20%.\n",
    "\n",
    "> The number of days a patient waits for an appointment, from the day it is scheduled until the day of the appointment, provides some pretty good insight. Only 10% of appointments are no-showed if they occur within 5 days of being scheduled. Analyzing the acuity of the patient's need for a sooner appointment, or the availability of appointments during that timeframe, might provide a greater understanding as to why this may be.\n",
    "\n",
    "> According to the data, if the patient is between the ages of 6-35 years old, there is about a 25% chance that they will not show for their appointment. Patients between the age of 56-65 are the least likely to no-show for their appointment. I was very surprised to see that there are 7 patients over the age of 100 in the dataset. While this isn't a large number of people compared to the dataset, they do have the highest number of no-show appointments compared to all of the other age groups.\n",
    "\n",
    "> The SMS appointment reminders does not increase the likelihood that the patient will show up to their appointment. \n",
    "\n",
    "\n",
    "> If we had more information about the type of appointment and the patient's need for the appointment e.g., acute illness, follow-up on existing condition, or annual physical, this could provide us with some additional insight."
   ]
  },
  {
   "cell_type": "code",
   "execution_count": null,
   "metadata": {
    "tags": []
   },
   "outputs": [
    {
     "name": "stdout",
     "output_type": "stream",
     "text": [
      "[NbConvertApp] Converting notebook Investigate_a_Dataset.ipynb to html\n",
      "[NbConvertApp] WARNING | Alternative text is missing on 5 image(s).\n",
      "[NbConvertApp] Writing 553988 bytes to Investigate_a_Dataset.html\n"
     ]
    }
   ],
   "source": [
    "# Running this cell will execute a bash command to convert this notebook to an .html file\n",
    "!python -m nbconvert --to html Investigate_a_Dataset.ipynb"
   ]
  }
 ],
 "metadata": {
  "kernelspec": {
   "display_name": "Python 3 (ipykernel)",
   "language": "python",
   "name": "python3"
  },
  "language_info": {
   "codemirror_mode": {
    "name": "ipython",
    "version": 3
   },
   "file_extension": ".py",
   "mimetype": "text/x-python",
   "name": "python",
   "nbconvert_exporter": "python",
   "pygments_lexer": "ipython3",
   "version": "3.10.13"
  }
 },
 "nbformat": 4,
 "nbformat_minor": 4
}
